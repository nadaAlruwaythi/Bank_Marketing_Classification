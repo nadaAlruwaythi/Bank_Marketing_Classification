{
 "cells": [
  {
   "cell_type": "markdown",
   "metadata": {},
   "source": [
    "# Bank_Marketing_classification "
   ]
  },
  {
   "cell_type": "markdown",
   "metadata": {},
   "source": [
    "#### Overview:\n",
    "> The primary goal of the project is to predict whether or not a customer will subscribe to a service offered by the bank."
   ]
  },
  {
   "cell_type": "markdown",
   "metadata": {},
   "source": [
    "#### Datasets:\n",
    "\n",
    ">The dataset contains bank marketing  collected from uci.edu: \n",
    "https://archive.ics.uci.edu/ml/datasets/bank+marketing \n"
   ]
  },
  {
   "cell_type": "markdown",
   "metadata": {},
   "source": [
    "#### Project proposal:\n",
    "> In this project our task is get a dataset to build a classification model on. We choose to analysis a data set of a bank to determine if the customers will subscribe to a service the bank is offering."
   ]
  },
  {
   "cell_type": "markdown",
   "metadata": {},
   "source": [
    "### Importing Libraries"
   ]
  },
  {
   "cell_type": "code",
   "execution_count": 64,
   "metadata": {
    "scrolled": true
   },
   "outputs": [],
   "source": [
    "import pandas as pd\n",
    "import numpy as np\n",
    "from sklearn.metrics import confusion_matrix, precision_recall_curve, auc, roc_auc_score, roc_curve, recall_score, classification_report\n",
    "from sklearn.ensemble import RandomForestClassifier\n",
    "from xgboost import XGBClassifier\n",
    "from sklearn.preprocessing import StandardScaler\n",
    "from sklearn.metrics import accuracy_score\n",
    "from sklearn import model_selection\n",
    "from imblearn import under_sampling, over_sampling\n",
    "from imblearn.over_sampling import SMOTE\n",
    "import matplotlib.pyplot as plt\n",
    "from sklearn.preprocessing import StandardScaler, PolynomialFeatures\n",
    "import seaborn as sns\n",
    "from sklearn.model_selection import train_test_split\n",
    "from sklearn.linear_model import LogisticRegression\n",
    "from sklearn.neighbors import KNeighborsClassifier\n",
    "from sklearn import metrics\n",
    "from imblearn.over_sampling import RandomOverSampler\n",
    "from sqlalchemy import create_engine\n",
    "from sklearn.tree import DecisionTreeClassifier\n",
    "import pickle\n",
    "from sklearn.metrics import log_loss\n",
    "from sklearn.metrics import precision_score, recall_score, precision_recall_curve,f1_score, fbeta_score\n",
    "from sklearn.ensemble import BaggingClassifier\n",
    "from sklearn.svm import LinearSVC\n",
    "from sklearn.ensemble import RandomForestClassifier, ExtraTreesClassifier, VotingClassifier\n"
   ]
  },
  {
   "cell_type": "markdown",
   "metadata": {},
   "source": [
    "## Loading Data"
   ]
  },
  {
   "cell_type": "code",
   "execution_count": 65,
   "metadata": {},
   "outputs": [],
   "source": [
    "engine = create_engine('sqlite:///bank_db.db' , echo = True)"
   ]
  },
  {
   "cell_type": "code",
   "execution_count": 66,
   "metadata": {},
   "outputs": [
    {
     "name": "stdout",
     "output_type": "stream",
     "text": [
      "2021-11-04 14:13:35,272 INFO sqlalchemy.engine.base.Engine SELECT CAST('test plain returns' AS VARCHAR(60)) AS anon_1\n"
     ]
    },
    {
     "name": "stderr",
     "output_type": "stream",
     "text": [
      "SELECT CAST('test plain returns' AS VARCHAR(60)) AS anon_1\n"
     ]
    },
    {
     "name": "stdout",
     "output_type": "stream",
     "text": [
      "2021-11-04 14:13:35,276 INFO sqlalchemy.engine.base.Engine ()\n"
     ]
    },
    {
     "name": "stderr",
     "output_type": "stream",
     "text": [
      "()\n"
     ]
    },
    {
     "name": "stdout",
     "output_type": "stream",
     "text": [
      "2021-11-04 14:13:35,281 INFO sqlalchemy.engine.base.Engine SELECT CAST('test unicode returns' AS VARCHAR(60)) AS anon_1\n"
     ]
    },
    {
     "name": "stderr",
     "output_type": "stream",
     "text": [
      "SELECT CAST('test unicode returns' AS VARCHAR(60)) AS anon_1\n"
     ]
    },
    {
     "name": "stdout",
     "output_type": "stream",
     "text": [
      "2021-11-04 14:13:35,283 INFO sqlalchemy.engine.base.Engine ()\n"
     ]
    },
    {
     "name": "stderr",
     "output_type": "stream",
     "text": [
      "()\n"
     ]
    },
    {
     "name": "stdout",
     "output_type": "stream",
     "text": [
      "2021-11-04 14:13:35,287 INFO sqlalchemy.engine.base.Engine SELECT name FROM sqlite_master WHERE type='table' ORDER BY name\n"
     ]
    },
    {
     "name": "stderr",
     "output_type": "stream",
     "text": [
      "SELECT name FROM sqlite_master WHERE type='table' ORDER BY name\n"
     ]
    },
    {
     "name": "stdout",
     "output_type": "stream",
     "text": [
      "2021-11-04 14:13:35,291 INFO sqlalchemy.engine.base.Engine ()\n"
     ]
    },
    {
     "name": "stderr",
     "output_type": "stream",
     "text": [
      "()\n"
     ]
    },
    {
     "data": {
      "text/plain": [
       "['bank_full', 'bank_full_updated', 'bank_full_updated1']"
      ]
     },
     "execution_count": 66,
     "metadata": {},
     "output_type": "execute_result"
    }
   ],
   "source": [
    "all_tables = engine.table_names()\n",
    "all_tables"
   ]
  },
  {
   "cell_type": "code",
   "execution_count": 67,
   "metadata": {
    "scrolled": false
   },
   "outputs": [
    {
     "name": "stdout",
     "output_type": "stream",
     "text": [
      "2021-11-04 14:13:36,173 INFO sqlalchemy.engine.base.Engine PRAGMA main.table_info(\"SELECT * FROM bank_full_updated1;\")\n"
     ]
    },
    {
     "name": "stderr",
     "output_type": "stream",
     "text": [
      "PRAGMA main.table_info(\"SELECT * FROM bank_full_updated1;\")\n"
     ]
    },
    {
     "name": "stdout",
     "output_type": "stream",
     "text": [
      "2021-11-04 14:13:36,175 INFO sqlalchemy.engine.base.Engine ()\n"
     ]
    },
    {
     "name": "stderr",
     "output_type": "stream",
     "text": [
      "()\n"
     ]
    },
    {
     "name": "stdout",
     "output_type": "stream",
     "text": [
      "2021-11-04 14:13:36,179 INFO sqlalchemy.engine.base.Engine PRAGMA temp.table_info(\"SELECT * FROM bank_full_updated1;\")\n"
     ]
    },
    {
     "name": "stderr",
     "output_type": "stream",
     "text": [
      "PRAGMA temp.table_info(\"SELECT * FROM bank_full_updated1;\")\n"
     ]
    },
    {
     "name": "stdout",
     "output_type": "stream",
     "text": [
      "2021-11-04 14:13:36,183 INFO sqlalchemy.engine.base.Engine ()\n"
     ]
    },
    {
     "name": "stderr",
     "output_type": "stream",
     "text": [
      "()\n"
     ]
    },
    {
     "name": "stdout",
     "output_type": "stream",
     "text": [
      "2021-11-04 14:13:36,189 INFO sqlalchemy.engine.base.OptionEngine SELECT * FROM bank_full_updated1;\n"
     ]
    },
    {
     "name": "stderr",
     "output_type": "stream",
     "text": [
      "SELECT * FROM bank_full_updated1;\n"
     ]
    },
    {
     "name": "stdout",
     "output_type": "stream",
     "text": [
      "2021-11-04 14:13:36,191 INFO sqlalchemy.engine.base.OptionEngine ()\n"
     ]
    },
    {
     "name": "stderr",
     "output_type": "stream",
     "text": [
      "()\n"
     ]
    },
    {
     "data": {
      "text/html": [
       "<div><div id=aaacc152-e8ce-4393-b7a4-bdf697c15bbc style=\"display:none; background-color:#9D6CFF; color:white; width:200px; height:30px; padding-left:5px; border-radius:4px; flex-direction:row; justify-content:space-around; align-items:center;\" onmouseover=\"this.style.backgroundColor='#BA9BF8'\" onmouseout=\"this.style.backgroundColor='#9D6CFF'\" onclick=\"window.commands?.execute('create-mitosheet-from-dataframe-output');\">See Full Dataframe in Mito</div> <script> if (window.commands.hasCommand('create-mitosheet-from-dataframe-output')) document.getElementById('aaacc152-e8ce-4393-b7a4-bdf697c15bbc').style.display = 'flex' </script> <table border=\"1\" class=\"dataframe\">\n",
       "  <thead>\n",
       "    <tr style=\"text-align: right;\">\n",
       "      <th></th>\n",
       "      <th>index</th>\n",
       "      <th>age</th>\n",
       "      <th>default</th>\n",
       "      <th>balance</th>\n",
       "      <th>housing</th>\n",
       "      <th>loan</th>\n",
       "      <th>day</th>\n",
       "      <th>duration</th>\n",
       "      <th>campaign</th>\n",
       "      <th>pdays</th>\n",
       "      <th>...</th>\n",
       "      <th>month_oct</th>\n",
       "      <th>month_sep</th>\n",
       "      <th>education_primary</th>\n",
       "      <th>education_secondary</th>\n",
       "      <th>education_tertiary</th>\n",
       "      <th>education_unknown</th>\n",
       "      <th>poutcome_failure</th>\n",
       "      <th>poutcome_other</th>\n",
       "      <th>poutcome_success</th>\n",
       "      <th>poutcome_unknown</th>\n",
       "    </tr>\n",
       "  </thead>\n",
       "  <tbody>\n",
       "    <tr>\n",
       "      <th>0</th>\n",
       "      <td>0</td>\n",
       "      <td>58</td>\n",
       "      <td>0</td>\n",
       "      <td>2143</td>\n",
       "      <td>1</td>\n",
       "      <td>0</td>\n",
       "      <td>5</td>\n",
       "      <td>261</td>\n",
       "      <td>1</td>\n",
       "      <td>0</td>\n",
       "      <td>...</td>\n",
       "      <td>0</td>\n",
       "      <td>0</td>\n",
       "      <td>0</td>\n",
       "      <td>0</td>\n",
       "      <td>1</td>\n",
       "      <td>0</td>\n",
       "      <td>0</td>\n",
       "      <td>0</td>\n",
       "      <td>0</td>\n",
       "      <td>1</td>\n",
       "    </tr>\n",
       "    <tr>\n",
       "      <th>1</th>\n",
       "      <td>1</td>\n",
       "      <td>44</td>\n",
       "      <td>0</td>\n",
       "      <td>29</td>\n",
       "      <td>1</td>\n",
       "      <td>0</td>\n",
       "      <td>5</td>\n",
       "      <td>151</td>\n",
       "      <td>1</td>\n",
       "      <td>0</td>\n",
       "      <td>...</td>\n",
       "      <td>0</td>\n",
       "      <td>0</td>\n",
       "      <td>0</td>\n",
       "      <td>1</td>\n",
       "      <td>0</td>\n",
       "      <td>0</td>\n",
       "      <td>0</td>\n",
       "      <td>0</td>\n",
       "      <td>0</td>\n",
       "      <td>1</td>\n",
       "    </tr>\n",
       "    <tr>\n",
       "      <th>2</th>\n",
       "      <td>2</td>\n",
       "      <td>33</td>\n",
       "      <td>0</td>\n",
       "      <td>2</td>\n",
       "      <td>1</td>\n",
       "      <td>1</td>\n",
       "      <td>5</td>\n",
       "      <td>76</td>\n",
       "      <td>1</td>\n",
       "      <td>0</td>\n",
       "      <td>...</td>\n",
       "      <td>0</td>\n",
       "      <td>0</td>\n",
       "      <td>0</td>\n",
       "      <td>1</td>\n",
       "      <td>0</td>\n",
       "      <td>0</td>\n",
       "      <td>0</td>\n",
       "      <td>0</td>\n",
       "      <td>0</td>\n",
       "      <td>1</td>\n",
       "    </tr>\n",
       "    <tr>\n",
       "      <th>3</th>\n",
       "      <td>3</td>\n",
       "      <td>47</td>\n",
       "      <td>0</td>\n",
       "      <td>1506</td>\n",
       "      <td>1</td>\n",
       "      <td>0</td>\n",
       "      <td>5</td>\n",
       "      <td>92</td>\n",
       "      <td>1</td>\n",
       "      <td>0</td>\n",
       "      <td>...</td>\n",
       "      <td>0</td>\n",
       "      <td>0</td>\n",
       "      <td>0</td>\n",
       "      <td>0</td>\n",
       "      <td>0</td>\n",
       "      <td>1</td>\n",
       "      <td>0</td>\n",
       "      <td>0</td>\n",
       "      <td>0</td>\n",
       "      <td>1</td>\n",
       "    </tr>\n",
       "    <tr>\n",
       "      <th>4</th>\n",
       "      <td>4</td>\n",
       "      <td>33</td>\n",
       "      <td>0</td>\n",
       "      <td>1</td>\n",
       "      <td>0</td>\n",
       "      <td>0</td>\n",
       "      <td>5</td>\n",
       "      <td>198</td>\n",
       "      <td>1</td>\n",
       "      <td>0</td>\n",
       "      <td>...</td>\n",
       "      <td>0</td>\n",
       "      <td>0</td>\n",
       "      <td>0</td>\n",
       "      <td>0</td>\n",
       "      <td>0</td>\n",
       "      <td>1</td>\n",
       "      <td>0</td>\n",
       "      <td>0</td>\n",
       "      <td>0</td>\n",
       "      <td>1</td>\n",
       "    </tr>\n",
       "  </tbody>\n",
       "</table></div>"
      ],
      "text/plain": [
       "   index  age  default  balance  housing  loan  day  duration  campaign  \\\n",
       "0      0   58        0     2143        1     0    5       261         1   \n",
       "1      1   44        0       29        1     0    5       151         1   \n",
       "2      2   33        0        2        1     1    5        76         1   \n",
       "3      3   47        0     1506        1     0    5        92         1   \n",
       "4      4   33        0        1        0     0    5       198         1   \n",
       "\n",
       "   pdays  ...  month_oct  month_sep  education_primary  education_secondary  \\\n",
       "0      0  ...          0          0                  0                    0   \n",
       "1      0  ...          0          0                  0                    1   \n",
       "2      0  ...          0          0                  0                    1   \n",
       "3      0  ...          0          0                  0                    0   \n",
       "4      0  ...          0          0                  0                    0   \n",
       "\n",
       "   education_tertiary  education_unknown  poutcome_failure  poutcome_other  \\\n",
       "0                   1                  0                 0               0   \n",
       "1                   0                  0                 0               0   \n",
       "2                   0                  0                 0               0   \n",
       "3                   0                  1                 0               0   \n",
       "4                   0                  1                 0               0   \n",
       "\n",
       "   poutcome_success  poutcome_unknown  \n",
       "0                 0                 1  \n",
       "1                 0                 1  \n",
       "2                 0                 1  \n",
       "3                 0                 1  \n",
       "4                 0                 1  \n",
       "\n",
       "[5 rows x 47 columns]"
      ]
     },
     "execution_count": 67,
     "metadata": {},
     "output_type": "execute_result"
    }
   ],
   "source": [
    "data = pd.read_sql('SELECT * FROM bank_full_updated1;', engine)\n",
    "data.head()"
   ]
  },
  {
   "cell_type": "code",
   "execution_count": 68,
   "metadata": {},
   "outputs": [],
   "source": [
    "data.drop(columns='index',inplace=True)"
   ]
  },
  {
   "cell_type": "markdown",
   "metadata": {},
   "source": [
    "# Split data"
   ]
  },
  {
   "cell_type": "code",
   "execution_count": 69,
   "metadata": {},
   "outputs": [],
   "source": [
    "X, y = data.drop('y',axis=1), data['y']\n",
    "X_train, X_test, y_train, y_test = train_test_split(X, y, test_size=0.20, random_state=42)\n",
    "X_train, X_val, y_train, y_val = train_test_split(X_train, y_train, test_size=.2, random_state=3)\n"
   ]
  },
  {
   "cell_type": "markdown",
   "metadata": {},
   "source": [
    "# Baseline Model "
   ]
  },
  {
   "cell_type": "code",
   "execution_count": 70,
   "metadata": {},
   "outputs": [
    {
     "name": "stdout",
     "output_type": "stream",
     "text": [
      "KNeighbors Classifier Model, Accuracy (Train Set) :  0.9187806732563766\n",
      "KNeighbors Classifier Model, Accuracy (Val Set) :  0.8661874481614598\n"
     ]
    }
   ],
   "source": [
    "knn=KNeighborsClassifier(n_neighbors=3)\n",
    "knn.fit(X_train,y_train)\n",
    "y_pred=knn.predict(X_test)\n",
    "\n",
    "accuracy_train_set = knn.score(X_train, y_train)  \n",
    "accuracy_valid_set = knn.score(X_val, y_val)  \n",
    "\n",
    "\n",
    "print(\"KNeighbors Classifier Model, Accuracy (Train Set) : \", accuracy_train_set)\n",
    "print(\"KNeighbors Classifier Model, Accuracy (Val Set) : \", accuracy_valid_set)"
   ]
  },
  {
   "cell_type": "markdown",
   "metadata": {},
   "source": [
    "* Handling Class Imbalance"
   ]
  },
  {
   "cell_type": "code",
   "execution_count": 71,
   "metadata": {
    "scrolled": true
   },
   "outputs": [
    {
     "data": {
      "text/plain": [
       "0    0.883015\n",
       "1    0.116985\n",
       "Name: y, dtype: float64"
      ]
     },
     "execution_count": 71,
     "metadata": {},
     "output_type": "execute_result"
    }
   ],
   "source": [
    "data[\"y\"].value_counts()/len(data.y)\n"
   ]
  },
  {
   "cell_type": "code",
   "execution_count": 9,
   "metadata": {},
   "outputs": [
    {
     "data": {
      "text/plain": [
       "age                    0\n",
       "default                0\n",
       "balance                0\n",
       "housing                0\n",
       "loan                   0\n",
       "day                    0\n",
       "campaign               0\n",
       "pdays                  0\n",
       "previous               0\n",
       "y                      0\n",
       "job_admin.             0\n",
       "job_blue-collar        0\n",
       "job_entrepreneur       0\n",
       "job_housemaid          0\n",
       "job_management         0\n",
       "job_retired            0\n",
       "job_self-employed      0\n",
       "job_services           0\n",
       "job_student            0\n",
       "job_technician         0\n",
       "job_unemployed         0\n",
       "job_unknown            0\n",
       "marital_divorced       0\n",
       "marital_married        0\n",
       "marital_single         0\n",
       "month_apr              0\n",
       "month_aug              0\n",
       "month_dec              0\n",
       "month_feb              0\n",
       "month_jan              0\n",
       "month_jul              0\n",
       "month_jun              0\n",
       "month_mar              0\n",
       "month_may              0\n",
       "month_nov              0\n",
       "month_oct              0\n",
       "month_sep              0\n",
       "education_primary      0\n",
       "education_secondary    0\n",
       "education_tertiary     0\n",
       "education_unknown      0\n",
       "poutcome_failure       0\n",
       "poutcome_other         0\n",
       "poutcome_success       0\n",
       "poutcome_unknown       0\n",
       "dtype: int64"
      ]
     },
     "execution_count": 9,
     "metadata": {},
     "output_type": "execute_result"
    }
   ],
   "source": [
    "data.drop([\"duration\"] , axis=1,inplace=True)\n",
    "data.isnull().sum()"
   ]
  },
  {
   "cell_type": "code",
   "execution_count": 72,
   "metadata": {
    "scrolled": true
   },
   "outputs": [
    {
     "data": {
      "text/plain": [
       "0    25622\n",
       "1     3312\n",
       "Name: y, dtype: int64"
      ]
     },
     "execution_count": 72,
     "metadata": {},
     "output_type": "execute_result"
    }
   ],
   "source": [
    "#Data befor over sampling\n",
    "y_train.value_counts()"
   ]
  },
  {
   "cell_type": "markdown",
   "metadata": {},
   "source": [
    "--------------------ROS---------------------"
   ]
  },
  {
   "cell_type": "code",
   "execution_count": 73,
   "metadata": {
    "scrolled": true
   },
   "outputs": [
    {
     "name": "stderr",
     "output_type": "stream",
     "text": [
      "C:\\Users\\nadaa\\anaconda3\\anaconda\\lib\\site-packages\\imblearn\\utils\\_validation.py:299: UserWarning: After over-sampling, the number of samples (13248) in class 1 will be larger than the number of samples in the majority class (class #0 -> 6348)\n",
      "  warnings.warn(\n",
      "C:\\Users\\nadaa\\anaconda3\\anaconda\\lib\\site-packages\\imblearn\\utils\\_validation.py:299: UserWarning: After over-sampling, the number of samples (25622) in class 0 will be larger than the number of samples in the majority class (class #0 -> 6348)\n",
      "  warnings.warn(\n"
     ]
    }
   ],
   "source": [
    "n_pos = np.sum(y_train == 1)\n",
    "n_neg = np.sum(y_train == 0)\n",
    "ratio = {1 : n_pos * 4, 0 : n_neg} \n",
    "\n",
    "# randomly oversample positive samples: create 4x as many \n",
    "ROS =RandomOverSampler(sampling_strategy = ratio, random_state=42) \n",
    "X_tr_rand, y_tr_rand = ROS.fit_resample(X_train, y_train)\n",
    "X_val_rand,y_val_rand=ROS.fit_resample(X_val,y_val)"
   ]
  },
  {
   "cell_type": "code",
   "execution_count": 74,
   "metadata": {},
   "outputs": [
    {
     "name": "stdout",
     "output_type": "stream",
     "text": [
      "0    39922\n",
      "1     5289\n",
      "Name: y, dtype: int64\n"
     ]
    },
    {
     "data": {
      "text/plain": [
       "<AxesSubplot:xlabel='y', ylabel='count'>"
      ]
     },
     "execution_count": 74,
     "metadata": {},
     "output_type": "execute_result"
    },
    {
     "data": {
      "image/png": "[encoded data removed]",
      "text/plain": [
       "<Figure size 432x288 with 1 Axes>"
      ]
     },
     "metadata": {
      "needs_background": "light"
     },
     "output_type": "display_data"
    }
   ],
   "source": [
    "print(df_new['y'].value_counts())\n",
    "sns.countplot(x='y', data=df_new)\n",
    "\n"
   ]
  },
  {
   "cell_type": "code",
   "execution_count": 75,
   "metadata": {},
   "outputs": [
    {
     "name": "stdout",
     "output_type": "stream",
     "text": [
      "class 1: (39922, 46)\n",
      "class 0: (5289, 46)\n"
     ]
    }
   ],
   "source": [
    "class_count_0, class_count_1 = data['y'].value_counts()\n",
    "\n",
    "# Separate class\n",
    "class_1 = data[data['y'] == 1]\n",
    "class_0 = data[data['y'] == 0]# print the shape of the class\n",
    "print('class 1:', class_0.shape)\n",
    "print('class 0:', class_1.shape)"
   ]
  },
  {
   "cell_type": "code",
   "execution_count": 76,
   "metadata": {
    "scrolled": true
   },
   "outputs": [
    {
     "name": "stdout",
     "output_type": "stream",
     "text": [
      "total class of 1 and 0: 1    39922\n",
      "0    39922\n",
      "Name: y, dtype: int64\n"
     ]
    },
    {
     "data": {
      "text/plain": [
       "Text(0.5, 1.0, 'The balance of target variable')"
      ]
     },
     "execution_count": 76,
     "metadata": {},
     "output_type": "execute_result"
    },
    {
     "data": {
      "image/png": "[encoded data removed]",
      "text/plain": [
       "<Figure size 432x288 with 1 Axes>"
      ]
     },
     "metadata": {
      "needs_background": "light"
     },
     "output_type": "display_data"
    }
   ],
   "source": [
    "class_1_over = class_1.sample(class_count_0, replace=True)\n",
    "\n",
    "test_over = pd.concat([class_0, class_1_over], axis=0)\n",
    "\n",
    "print(\"total class of 1 and 0:\",test_over['y'].value_counts())# plot the count after under-sampeling\n",
    "test_over['y'].value_counts().plot(kind='bar', title='count (target)');\n",
    "plt.title(\"The balance of target variable\",fontsize=20)\n"
   ]
  },
  {
   "cell_type": "markdown",
   "metadata": {},
   "source": [
    "--------------------SMOTE--------------------"
   ]
  },
  {
   "cell_type": "code",
   "execution_count": 77,
   "metadata": {},
   "outputs": [
    {
     "name": "stderr",
     "output_type": "stream",
     "text": [
      "C:\\Users\\nadaa\\anaconda3\\anaconda\\lib\\site-packages\\imblearn\\utils\\_validation.py:299: UserWarning: After over-sampling, the number of samples (6624) in class 1 will be larger than the number of samples in the majority class (class #0 -> 6348)\n",
      "  warnings.warn(\n",
      "C:\\Users\\nadaa\\anaconda3\\anaconda\\lib\\site-packages\\imblearn\\utils\\_validation.py:299: UserWarning: After over-sampling, the number of samples (25622) in class 0 will be larger than the number of samples in the majority class (class #0 -> 6348)\n",
      "  warnings.warn(\n"
     ]
    }
   ],
   "source": [
    "n_pos = np.sum(y_train == 1)\n",
    "n_neg = np.sum(y_train == 0)\n",
    "ratio = {1 : n_pos * 2, 0 : n_neg}\n",
    "\n",
    "smote =SMOTE(sampling_strategy=ratio, random_state = 42)\n",
    "    \n",
    "X_tr_smote, y_tr_smote = smote.fit_resample(X_train, y_train)\n",
    "X_val_smote, y_val_smote = smote.fit_resample(X_val, y_val)"
   ]
  },
  {
   "cell_type": "markdown",
   "metadata": {},
   "source": [
    "After over sampling"
   ]
  },
  {
   "cell_type": "code",
   "execution_count": 78,
   "metadata": {
    "scrolled": true
   },
   "outputs": [
    {
     "name": "stdout",
     "output_type": "stream",
     "text": [
      "Before OverSampling, counts of label '1': 3312\n",
      "Before OverSampling, counts of label '0': 25622 \n",
      "\n",
      "After OverSampling, the shape of train_X: (38870, 45)\n",
      "After OverSampling, the shape of train_y: (38870,) \n",
      "\n",
      "After OverSampling, the shape of train_X: (38870, 45)\n",
      "After OverSampling, the shape of train_y: (38870,) \n",
      "\n",
      "After OverSampling, counts of label '1': 13248\n",
      "After OverSampling, counts of label '0': 25622\n"
     ]
    }
   ],
   "source": [
    "print(\"Before OverSampling, counts of label '1': {}\".format(sum(y_train==1)))\n",
    "print(\"Before OverSampling, counts of label '0': {} \\n\".format(sum(y_train==0)))\n",
    "\n",
    "print('After OverSampling, the shape of train_X: {}'.format(X_tr_rand.shape))\n",
    "print('After OverSampling, the shape of train_y: {} \\n'.format(y_tr_rand.shape))\n",
    "print('After OverSampling, the shape of train_X: {}'.format(X_val_rand.shape))\n",
    "print('After OverSampling, the shape of train_y: {} \\n'.format(y_val_rand.shape))\n",
    "\n",
    "print(\"After OverSampling, counts of label '1': {}\".format(sum(y_tr_rand==1)))\n",
    "print(\"After OverSampling, counts of label '0': {}\".format(sum(y_tr_rand==0)))"
   ]
  },
  {
   "cell_type": "markdown",
   "metadata": {
    "scrolled": false
   },
   "source": [
    "After SOMTE"
   ]
  },
  {
   "cell_type": "code",
   "execution_count": 79,
   "metadata": {
    "scrolled": true
   },
   "outputs": [
    {
     "name": "stdout",
     "output_type": "stream",
     "text": [
      "Before SOMTE, counts of label '1': 3312\n",
      "Before SOMTE, counts of label '0': 25622 \n",
      "\n",
      "After SOMTE, the shape of train_X: (32246, 45)\n",
      "After SOMTE, the shape of train_y: (32246,) \n",
      "\n",
      "After SOMTE, the shape of train_X: (32246, 45)\n",
      "After SOMTE, the shape of train_y: (32246,) \n",
      "\n",
      "After SOMTE, counts of label '1': 6624\n",
      "After SOMTE, counts of label '0': 25622\n"
     ]
    }
   ],
   "source": [
    "print(\"Before SOMTE, counts of label '1': {}\".format(sum(y_train==1)))\n",
    "print(\"Before SOMTE, counts of label '0': {} \\n\".format(sum(y_train==0)))\n",
    "\n",
    "print('After SOMTE, the shape of train_X: {}'.format(X_tr_smote.shape))\n",
    "print('After SOMTE, the shape of train_y: {} \\n'.format(y_tr_smote.shape))\n",
    "print('After SOMTE, the shape of train_X: {}'.format(X_val_smote.shape))\n",
    "print('After SOMTE, the shape of train_y: {} \\n'.format(y_val_smote.shape))\n",
    "\n",
    "print(\"After SOMTE, counts of label '1': {}\".format(sum(y_tr_smote==1)))\n",
    "print(\"After SOMTE, counts of label '0': {}\".format(sum(y_tr_smote==0)))"
   ]
  },
  {
   "cell_type": "code",
   "execution_count": 80,
   "metadata": {
    "scrolled": true
   },
   "outputs": [
    {
     "name": "stdout",
     "output_type": "stream",
     "text": [
      "Training Data has (38870, 45)\n",
      "Test Data has (9043, 45)\n",
      "Validation Data has (7234, 45)\n"
     ]
    }
   ],
   "source": [
    "print(\"Training Data has\",X_tr_rand.shape)\n",
    "print('Test Data has',X_test.shape)\n",
    "print(\"Validation Data has\",X_val.shape)"
   ]
  },
  {
   "cell_type": "code",
   "execution_count": 81,
   "metadata": {},
   "outputs": [
    {
     "name": "stdout",
     "output_type": "stream",
     "text": [
      "Training Data has (32246, 45)\n",
      "Test Data has (9043, 45)\n",
      "Validation Data has (7234, 45)\n"
     ]
    }
   ],
   "source": [
    "print(\"Training Data has\",X_tr_smote.shape)\n",
    "print('Test Data has',X_test.shape)\n",
    "print(\"Validation Data has\",X_val.shape)"
   ]
  },
  {
   "cell_type": "markdown",
   "metadata": {},
   "source": [
    "## Modeling :"
   ]
  },
  {
   "cell_type": "markdown",
   "metadata": {},
   "source": [
    "#### Logistic Regression:"
   ]
  },
  {
   "cell_type": "code",
   "execution_count": 82,
   "metadata": {
    "scrolled": true
   },
   "outputs": [
    {
     "name": "stdout",
     "output_type": "stream",
     "text": [
      "Logistic Regression Model, Accuracy (Train Set) :  0.8246462567532802\n",
      "Logistic Regression Model, Accuracy (Val Set) :  0.8370208386930795\n"
     ]
    }
   ],
   "source": [
    "lm_model = LogisticRegression(C=9,max_iter=3000,solver=\"lbfgs\")\n",
    "lm_model.fit(X_tr_rand, y_tr_rand)\n",
    "\n",
    "accuracy_train_set = lm_model.score(X_tr_rand, y_tr_rand)  \n",
    "accuracy_valid_set = lm_model.score(X_val_rand, y_val_rand)  \n",
    "print(\"Logistic Regression Model, Accuracy (Train Set) : \", accuracy_train_set)\n",
    "print(\"Logistic Regression Model, Accuracy (Val Set) : \", accuracy_valid_set)"
   ]
  },
  {
   "cell_type": "code",
   "execution_count": 92,
   "metadata": {
    "scrolled": true
   },
   "outputs": [
    {
     "name": "stdout",
     "output_type": "stream",
     "text": [
      "Logistic regression training metrics: \n",
      " Accuracy: 0.8246 \n",
      " Precision: 0.7916 \n",
      " Recall: 0.6590 \n",
      " F1: 0.7193\n",
      "--------------------------------------\n",
      "Logistic regression val metrics: \n",
      " Accuracy: 0.8370 \n",
      " Precision: 0.8001 \n",
      " Recall: 0.6956 \n",
      " F1: 0.7442\n"
     ]
    }
   ],
   "source": [
    "print('Logistic regression training metrics: \\n Accuracy: %.4f \\n Precision: %.4f \\n Recall: %.4f \\n F1: %.4f' %\n",
    "        (accuracy_score(y_tr_rand, lm_model.predict(X_tr_rand)),\n",
    "         precision_score(y_tr_rand, lm_model.predict(X_tr_rand)),\n",
    "         recall_score(y_tr_rand, lm_model.predict(X_tr_rand)),\n",
    "         f1_score(y_tr_rand, lm_model.predict(X_tr_rand))\n",
    "        )\n",
    "     )\n",
    "print('--------------------------------------')\n",
    "\n",
    "print('Logistic regression val metrics: \\n Accuracy: %.4f \\n Precision: %.4f \\n Recall: %.4f \\n F1: %.4f' %\n",
    "        (accuracy_score(y_val_rand, lm_model.predict(X_val_rand)),\n",
    "         precision_score(y_val_rand, lm_model.predict(X_val_rand)),\n",
    "         recall_score(y_val_rand, lm_model.predict(X_val_rand)),\n",
    "         f1_score(y_val_rand, lm_model.predict(X_val_rand))\n",
    "        )\n",
    "     )\n"
   ]
  },
  {
   "cell_type": "code",
   "execution_count": 93,
   "metadata": {},
   "outputs": [
    {
     "name": "stdout",
     "output_type": "stream",
     "text": [
      "              precision    recall  f1-score   support\n",
      "\n",
      "          NO       0.90      0.95      0.93      7952\n",
      "         YES       0.40      0.23      0.29      1091\n",
      "\n",
      "    accuracy                           0.86      9043\n",
      "   macro avg       0.65      0.59      0.61      9043\n",
      "weighted avg       0.84      0.86      0.85      9043\n",
      "\n"
     ]
    }
   ],
   "source": [
    "from sklearn.metrics import classification_report, confusion_matrix\n",
    "\n",
    "print(classification_report(y_test, y_pred,target_names = ['NO','YES']))"
   ]
  },
  {
   "cell_type": "code",
   "execution_count": 86,
   "metadata": {},
   "outputs": [
    {
     "data": {
      "text/plain": [
       "Text(93.77777777777786, 0.5, 'actual')"
      ]
     },
     "execution_count": 86,
     "metadata": {},
     "output_type": "execute_result"
    },
    {
     "data": {
      "image/png": "[encoded data removed]",
      "text/plain": [
       "<Figure size 480x320 with 2 Axes>"
      ]
     },
     "metadata": {
      "needs_background": "light"
     },
     "output_type": "display_data"
    }
   ],
   "source": [
    "threshold=0.05\n",
    "y_predict = (lm_model.predict_proba(X_test)[:, 1] >= threshold)\n",
    "confusion = confusion_matrix(y_test, y_predict)\n",
    "plt.figure(dpi=80)\n",
    "sns.heatmap(confusion, cmap=plt.cm.Blues, annot=True, square=True, fmt='d',\n",
    "xticklabels=['no', 'yes'],\n",
    "yticklabels=['no', 'yes']);\n",
    "plt.xlabel('prediction')\n",
    "plt.ylabel('actual')"
   ]
  },
  {
   "cell_type": "code",
   "execution_count": 87,
   "metadata": {
    "scrolled": true
   },
   "outputs": [
    {
     "name": "stdout",
     "output_type": "stream",
     "text": [
      "ROC AUC score =  0.9032082043129537\n"
     ]
    },
    {
     "data": {
      "image/png": "[encoded data removed]",
      "text/plain": [
       "<Figure size 432x288 with 1 Axes>"
      ]
     },
     "metadata": {
      "needs_background": "light"
     },
     "output_type": "display_data"
    }
   ],
   "source": [
    "fpr,tpr,thresholds=roc_curve(y_test,lm_model.predict_proba(X_test)[:,1])\n",
    "\n",
    "roc_auc = auc(fpr,tpr)\n",
    "\n",
    "# Plot ROC\n",
    "plt.title('Receiver Operating Characteristic')\n",
    "plt.plot(fpr, tpr, 'b',label='AUC = %0.3f'% roc_auc)\n",
    "plt.legend(loc='lower right')\n",
    "plt.plot([0,1],[0,1],'r--')\n",
    "plt.xlim([-0.1,1.0])\n",
    "plt.ylim([-0.1,1.01])\n",
    "plt.ylabel('True Positive Rate')\n",
    "plt.xlabel('False Positive Rate')\n",
    "print(\"ROC AUC score = \", roc_auc_score(y_test, lm_model.predict_proba(X_test)[:,1]))"
   ]
  },
  {
   "cell_type": "markdown",
   "metadata": {},
   "source": [
    "Log-loss on RandomForest"
   ]
  },
  {
   "cell_type": "code",
   "execution_count": 90,
   "metadata": {},
   "outputs": [
    {
     "name": "stdout",
     "output_type": "stream",
     "text": [
      "Log-loss on RandomForestClassifier accuracy: 0.8777\n"
     ]
    }
   ],
   "source": [
    "print(\"Log-loss on RandomForestClassifier accuracy: {:6.4f}\".format(lm_model.score(X_test, y_test)))"
   ]
  },
  {
   "cell_type": "code",
   "execution_count": 22,
   "metadata": {},
   "outputs": [],
   "source": [
    "# save the model to disk\n",
    "pickle.dump(lm_model, open('lm_model.pkl', 'wb'))"
   ]
  },
  {
   "cell_type": "markdown",
   "metadata": {},
   "source": [
    "#### KNN:"
   ]
  },
  {
   "cell_type": "code",
   "execution_count": 95,
   "metadata": {
    "scrolled": true
   },
   "outputs": [
    {
     "name": "stdout",
     "output_type": "stream",
     "text": [
      "KNeighbors Classifier Model, Accuracy (Train Set) :  0.9445073321327502\n",
      "KNeighbors Classifier Model, Accuracy (Val Set) :  0.7160020581425264\n"
     ]
    }
   ],
   "source": [
    "knn=KNeighborsClassifier(n_neighbors=3)\n",
    "knn.fit(X_tr_rand,y_tr_rand)\n",
    "y_pred=knn.predict(X_test)\n",
    "\n",
    "accuracy_train_set = knn.score(X_tr_rand, y_tr_rand)  \n",
    "accuracy_valid_set = knn.score(X_val_rand, y_val_rand)  \n",
    "\n",
    "\n",
    "print(\"KNeighbors Classifier Model, Accuracy (Train Set) : \", accuracy_train_set)\n",
    "print(\"KNeighbors Classifier Model, Accuracy (Val Set) : \", accuracy_valid_set)\n"
   ]
  },
  {
   "cell_type": "code",
   "execution_count": 96,
   "metadata": {
    "scrolled": true
   },
   "outputs": [
    {
     "name": "stdout",
     "output_type": "stream",
     "text": [
      "Knn training metrics: \n",
      " Accuracy: 0.9445 \n",
      " Precision: 0.8646 \n",
      " Recall: 0.9926 \n",
      " F1: 0.9242\n",
      "--------------------------------------\n",
      "Knn val metrics: \n",
      " Accuracy: 0.7160 \n",
      " Precision: 0.6157 \n",
      " Recall: 0.4438 \n",
      " F1: 0.5158\n"
     ]
    }
   ],
   "source": [
    "print('Knn training metrics: \\n Accuracy: %.4f \\n Precision: %.4f \\n Recall: %.4f \\n F1: %.4f' %\n",
    "        (accuracy_score(y_tr_rand, knn.predict(X_tr_rand)),\n",
    "         precision_score(y_tr_rand, knn.predict(X_tr_rand)),\n",
    "         recall_score(y_tr_rand, knn.predict(X_tr_rand)),\n",
    "         f1_score(y_tr_rand, knn.predict(X_tr_rand))\n",
    "        )\n",
    "     )\n",
    "print('--------------------------------------')\n",
    "\n",
    "print('Knn val metrics: \\n Accuracy: %.4f \\n Precision: %.4f \\n Recall: %.4f \\n F1: %.4f' %\n",
    "        (accuracy_score(y_val_rand, knn.predict(X_val_rand)),\n",
    "         precision_score(y_val_rand, knn.predict(X_val_rand)),\n",
    "         recall_score(y_val_rand, knn.predict(X_val_rand)),\n",
    "         f1_score(y_val_rand, knn.predict(X_val_rand))\n",
    "        )\n",
    "     )"
   ]
  },
  {
   "cell_type": "code",
   "execution_count": 97,
   "metadata": {
    "scrolled": true
   },
   "outputs": [
    {
     "name": "stdout",
     "output_type": "stream",
     "text": [
      "ROC AUC score =  0.6809240525647008\n"
     ]
    },
    {
     "data": {
      "image/png": "[encoded data removed]",
      "text/plain": [
       "<Figure size 432x288 with 1 Axes>"
      ]
     },
     "metadata": {
      "needs_background": "light"
     },
     "output_type": "display_data"
    }
   ],
   "source": [
    "fpr,tpr,thresholds=roc_curve(y_test,knn.predict_proba(X_test)[:,1])\n",
    "\n",
    "roc_auc = auc(fpr,tpr)\n",
    "\n",
    "# Plot ROC\n",
    "plt.title('Receiver Operating Characteristic')\n",
    "plt.plot(fpr, tpr, 'b',label='AUC = %0.3f'% roc_auc)\n",
    "plt.legend(loc='lower right')\n",
    "plt.plot([0,1],[0,1],'r--')\n",
    "plt.xlim([-0.1,1.0])\n",
    "plt.ylim([-0.1,1.01])\n",
    "plt.ylabel('True Positive Rate')\n",
    "plt.xlabel('False Positive Rate')\n",
    "print(\"ROC AUC score = \", roc_auc_score(y_test, knn.predict_proba(X_test)[:,1]))"
   ]
  },
  {
   "cell_type": "code",
   "execution_count": 98,
   "metadata": {},
   "outputs": [],
   "source": [
    "# save the model to disk\n",
    "pickle.dump(knn, open('knn.pkl', 'wb'))"
   ]
  },
  {
   "cell_type": "markdown",
   "metadata": {},
   "source": [
    "#### DecisionTreeClassifier:"
   ]
  },
  {
   "cell_type": "code",
   "execution_count": 101,
   "metadata": {
    "scrolled": true
   },
   "outputs": [
    {
     "name": "stdout",
     "output_type": "stream",
     "text": [
      "Accuracy on training set: 1.0\n",
      "Accuracy on val set: 0.7678672498070491\n"
     ]
    }
   ],
   "source": [
    "dt = DecisionTreeClassifier()\n",
    "dt.fit(X_tr_rand,y_tr_rand)\n",
    "print('Accuracy on training set:',dt.score(X_tr_rand,y_tr_rand))\n",
    "print('Accuracy on val set:',dt.score(X_val_rand,y_val_rand))"
   ]
  },
  {
   "cell_type": "code",
   "execution_count": 107,
   "metadata": {
    "scrolled": true
   },
   "outputs": [
    {
     "name": "stdout",
     "output_type": "stream",
     "text": [
      "DecisionTreeClassifier training metrics: \n",
      " Accuracy: 1.0000 \n",
      " Precision: 1.0000 \n",
      " Recall: 1.0000 \n",
      " F1: 1.0000\n",
      "--------------------------------------\n",
      "DecisionTreeClassifier val metrics: \n",
      " Accuracy: 0.7679 \n",
      " Precision: 0.7663 \n",
      " Recall: 0.4589 \n",
      " F1: 0.5740\n"
     ]
    }
   ],
   "source": [
    "print('DecisionTreeClassifier training metrics: \\n Accuracy: %.4f \\n Precision: %.4f \\n Recall: %.4f \\n F1: %.4f' %\n",
    "        (accuracy_score(y_tr_rand, dt.predict(X_tr_rand)),\n",
    "         precision_score(y_tr_rand, dt.predict(X_tr_rand)),\n",
    "         recall_score(y_tr_rand, dt.predict(X_tr_rand)),\n",
    "         f1_score(y_tr_rand, dt.predict(X_tr_rand))\n",
    "        )\n",
    "     )\n",
    "\n",
    "print('--------------------------------------')\n",
    "print('DecisionTreeClassifier val metrics: \\n Accuracy: %.4f \\n Precision: %.4f \\n Recall: %.4f \\n F1: %.4f' %\n",
    "        (accuracy_score(y_val_rand, dt.predict(X_val_rand)),\n",
    "         precision_score(y_val_rand, dt.predict(X_val_rand)),\n",
    "         recall_score(y_val_rand, dt.predict(X_val_rand)),\n",
    "         f1_score(y_val_rand, dt.predict(X_val_rand))\n",
    "        )\n",
    "     )"
   ]
  },
  {
   "cell_type": "code",
   "execution_count": 108,
   "metadata": {
    "scrolled": true
   },
   "outputs": [
    {
     "name": "stdout",
     "output_type": "stream",
     "text": [
      "ROC AUC score =  0.6829469599448201\n"
     ]
    },
    {
     "data": {
      "image/png": "[encoded data removed]",
      "text/plain": [
       "<Figure size 432x288 with 1 Axes>"
      ]
     },
     "metadata": {
      "needs_background": "light"
     },
     "output_type": "display_data"
    }
   ],
   "source": [
    "fpr,tpr,thresholds=roc_curve(y_test,dt.predict_proba(X_test)[:,1])\n",
    "\n",
    "roc_auc = auc(fpr,tpr)\n",
    "\n",
    "# Plot ROC\n",
    "plt.title('Receiver Operating Characteristic')\n",
    "plt.plot(fpr, tpr, 'b',label='AUC = %0.3f'% roc_auc)\n",
    "plt.legend(loc='lower right')\n",
    "plt.plot([0,1],[0,1],'r--')\n",
    "plt.xlim([-0.1,1.0])\n",
    "plt.ylim([-0.1,1.01])\n",
    "plt.ylabel('True Positive Rate')\n",
    "plt.xlabel('False Positive Rate')\n",
    "print(\"ROC AUC score = \", roc_auc_score(y_test, dt.predict_proba(X_test)[:,1]))"
   ]
  },
  {
   "cell_type": "code",
   "execution_count": 31,
   "metadata": {},
   "outputs": [],
   "source": [
    "# save the model to disk\n",
    "pickle.dump(dt, open('dt.pkl', 'wb'))"
   ]
  },
  {
   "cell_type": "markdown",
   "metadata": {},
   "source": [
    "#### RandomForest:"
   ]
  },
  {
   "cell_type": "code",
   "execution_count": 110,
   "metadata": {},
   "outputs": [
    {
     "name": "stdout",
     "output_type": "stream",
     "text": [
      "Accuracy on training set: 1.0\n",
      "Accuracy on val  0.7937741188577309\n"
     ]
    }
   ],
   "source": [
    "rf = RandomForestClassifier(n_estimators=100)\n",
    "rf.fit(X_tr_rand,y_tr_rand)\n",
    "print('Accuracy on training set:',rf.score(X_tr_rand,y_tr_rand))\n",
    "print('Accuracy on val ', rf.score(X_val_rand,y_val_rand))"
   ]
  },
  {
   "cell_type": "code",
   "execution_count": 115,
   "metadata": {
    "scrolled": true
   },
   "outputs": [
    {
     "name": "stdout",
     "output_type": "stream",
     "text": [
      "RandomForestClassifier training metrics: \n",
      " Accuracy: 1.0000 \n",
      " Precision: 1.0000 \n",
      " Recall: 1.0000 \n",
      " F1: 1.0000\n",
      "--------------------------------------\n",
      "RandomForestClassifier val metrics: \n",
      " Accuracy: 0.7938 \n",
      " Precision: 0.8644 \n",
      " Recall: 0.4684 \n",
      " F1: 0.6076\n"
     ]
    }
   ],
   "source": [
    "print('RandomForestClassifier training metrics: \\n Accuracy: %.4f \\n Precision: %.4f \\n Recall: %.4f \\n F1: %.4f' %\n",
    "        (accuracy_score(y_tr_rand, rf.predict(X_tr_rand)),\n",
    "         precision_score(y_tr_rand, rf.predict(X_tr_rand)),\n",
    "         recall_score(y_tr_rand, rf.predict(X_tr_rand)),\n",
    "         f1_score(y_tr_rand, rf.predict(X_tr_rand))\n",
    "        )\n",
    "     )\n",
    "\n",
    "print('--------------------------------------')\n",
    "print('RandomForestClassifier val metrics: \\n Accuracy: %.4f \\n Precision: %.4f \\n Recall: %.4f \\n F1: %.4f' %\n",
    "        (accuracy_score(y_val_rand, rf.predict(X_val_rand)),\n",
    "         precision_score(y_val_rand, rf.predict(X_val_rand)),\n",
    "         recall_score(y_val_rand, rf.predict(X_val_rand)),\n",
    "         f1_score(y_val_rand, rf.predict(X_val_rand))\n",
    "        )\n",
    "     )"
   ]
  },
  {
   "cell_type": "code",
   "execution_count": 116,
   "metadata": {
    "scrolled": false
   },
   "outputs": [
    {
     "name": "stdout",
     "output_type": "stream",
     "text": [
      "ROC AUC score =  0.917188050392179\n"
     ]
    },
    {
     "data": {
      "image/png": "[encoded data removed]",
      "text/plain": [
       "<Figure size 432x288 with 1 Axes>"
      ]
     },
     "metadata": {
      "needs_background": "light"
     },
     "output_type": "display_data"
    }
   ],
   "source": [
    "fpr,tpr,thresholds=roc_curve(y_test,rf.predict_proba(X_test)[:,1])\n",
    "\n",
    "roc_auc = auc(fpr,tpr)\n",
    "\n",
    "# Plot ROC\n",
    "plt.title('Receiver Operating Characteristic')\n",
    "plt.plot(fpr, tpr, 'b',label='AUC = %0.3f'% roc_auc)\n",
    "plt.legend(loc='lower right')\n",
    "plt.plot([0,1],[0,1],'r--')\n",
    "plt.xlim([-0.1,1.0])\n",
    "plt.ylim([-0.1,1.01])\n",
    "plt.ylabel('True Positive Rate')\n",
    "plt.xlabel('False Positive Rate')\n",
    "print(\"ROC AUC score = \", roc_auc_score(y_test, rf.predict_proba(X_test)[:,1]))"
   ]
  },
  {
   "cell_type": "code",
   "execution_count": 114,
   "metadata": {},
   "outputs": [],
   "source": [
    "# save the model to disk\n",
    "pickle.dump(rf, open('rf.pkl', 'wb'))"
   ]
  },
  {
   "cell_type": "markdown",
   "metadata": {},
   "source": [
    "#### XGBClassifier:"
   ]
  },
  {
   "cell_type": "code",
   "execution_count": 121,
   "metadata": {},
   "outputs": [
    {
     "name": "stderr",
     "output_type": "stream",
     "text": [
      "C:\\Users\\nadaa\\anaconda3\\anaconda\\lib\\site-packages\\xgboost\\sklearn.py:1224: UserWarning: The use of label encoder in XGBClassifier is deprecated and will be removed in a future release. To remove this warning, do the following: 1) Pass option use_label_encoder=False when constructing XGBClassifier object; and 2) Encode your labels (y) as integers starting with 0, i.e. 0, 1, 2, ..., [num_class - 1].\n",
      "  warnings.warn(label_encoder_deprecation_msg, UserWarning)\n"
     ]
    },
    {
     "name": "stdout",
     "output_type": "stream",
     "text": [
      "[14:42:44] WARNING: C:/Users/Administrator/workspace/xgboost-win64_release_1.5.0/src/learner.cc:576: \n",
      "Parameters: { \"max_deoth\" } might not be used.\n",
      "\n",
      "  This could be a false alarm, with some parameters getting used by language bindings but\n",
      "  then being mistakenly passed down to XGBoost core, or some parameter actually being used\n",
      "  but getting flagged wrongly here. Please open an issue if you find any such cases.\n",
      "\n",
      "\n",
      "[14:42:44] WARNING: C:/Users/Administrator/workspace/xgboost-win64_release_1.5.0/src/learner.cc:1115: Starting in XGBoost 1.3.0, the default evaluation metric used with the objective 'binary:logistic' was changed from 'error' to 'logloss'. Explicitly set eval_metric if you'd like to restore the old behavior.\n",
      "Accuracy on training set: 0.9838693079495755\n",
      "Accuracy on val set 0.8290969899665552\n"
     ]
    }
   ],
   "source": [
    "xgb = XGBClassifier(n_estimators=100,max_deoth=3,learning_rate=.71)\n",
    "xgb.fit(X_tr_rand, y_tr_rand)\n",
    "print('Accuracy on training set:',xgb.score(X_tr_rand, y_tr_rand))\n",
    "\n",
    "print('Accuracy on val set',xgb.score(X_val_rand, y_val_rand))"
   ]
  },
  {
   "cell_type": "code",
   "execution_count": 122,
   "metadata": {
    "scrolled": true
   },
   "outputs": [
    {
     "name": "stdout",
     "output_type": "stream",
     "text": [
      "XGBClassifier training metrics: \n",
      " Accuracy: 0.9839 \n",
      " Precision: 0.9664 \n",
      " Recall: 0.9869 \n",
      " F1: 0.9766\n",
      "--------------------------------------\n",
      "XGBClassifier val metrics: \n",
      " Accuracy: 0.8291 \n",
      " Precision: 0.8311 \n",
      " Recall: 0.6258 \n",
      " F1: 0.7139\n"
     ]
    }
   ],
   "source": [
    "print('XGBClassifier training metrics: \\n Accuracy: %.4f \\n Precision: %.4f \\n Recall: %.4f \\n F1: %.4f' %\n",
    "        (accuracy_score(y_tr_rand, xgb.predict(X_tr_rand)),\n",
    "         precision_score(y_tr_rand, xgb.predict(X_tr_rand)),\n",
    "         recall_score(y_tr_rand, xgb.predict(X_tr_rand)),\n",
    "         f1_score(y_tr_rand, xgb.predict(X_tr_rand))\n",
    "        )\n",
    "     )\n",
    "\n",
    "print('--------------------------------------')\n",
    "print('XGBClassifier val metrics: \\n Accuracy: %.4f \\n Precision: %.4f \\n Recall: %.4f \\n F1: %.4f' %\n",
    "        (accuracy_score(y_val_rand, xgb.predict(X_val_rand)),\n",
    "         precision_score(y_val_rand, xgb.predict(X_val_rand)),\n",
    "         recall_score(y_val_rand, xgb.predict(X_val_rand)),\n",
    "         f1_score(y_val_rand, xgb.predict(X_val_rand))\n",
    "        ))"
   ]
  },
  {
   "cell_type": "code",
   "execution_count": 39,
   "metadata": {},
   "outputs": [
    {
     "name": "stdout",
     "output_type": "stream",
     "text": [
      "ROC AUC score =  0.9052316880199622\n"
     ]
    },
    {
     "data": {
      "image/png": "[encoded data removed]",
      "text/plain": [
       "<Figure size 432x288 with 1 Axes>"
      ]
     },
     "metadata": {
      "needs_background": "light"
     },
     "output_type": "display_data"
    }
   ],
   "source": [
    "fpr,tpr,thresholds=roc_curve(y_test,xgb.predict_proba(X_test)[:,1])\n",
    "\n",
    "roc_auc = auc(fpr,tpr)\n",
    "\n",
    "# Plot ROC\n",
    "plt.title('Receiver Operating Characteristic')\n",
    "plt.plot(fpr, tpr, 'b',label='AUC = %0.3f'% roc_auc)\n",
    "plt.legend(loc='lower right')\n",
    "plt.plot([0,1],[0,1],'r--')\n",
    "plt.xlim([-0.1,1.0])\n",
    "plt.ylim([-0.1,1.01])\n",
    "plt.ylabel('True Positive Rate')\n",
    "plt.xlabel('False Positive Rate')\n",
    "print(\"ROC AUC score = \", roc_auc_score(y_test, xgb.predict_proba(X_test)[:,1]))"
   ]
  },
  {
   "cell_type": "code",
   "execution_count": 40,
   "metadata": {},
   "outputs": [],
   "source": [
    "# save the model to disk\n",
    "pickle.dump(xgb, open('xgb.pkl', 'wb'))"
   ]
  },
  {
   "cell_type": "markdown",
   "metadata": {},
   "source": [
    "#### BaggingClassifier:"
   ]
  },
  {
   "cell_type": "code",
   "execution_count": 123,
   "metadata": {},
   "outputs": [
    {
     "name": "stdout",
     "output_type": "stream",
     "text": [
      "Bagging Classifier, Accuracy (Train Set) :  0.9998970928736814\n",
      "Bagging Classifier, Accuracy (val Set) :  0.8012863390789812\n"
     ]
    }
   ],
   "source": [
    "bc= BaggingClassifier( n_estimators=30, random_state=0)\n",
    "                           \n",
    "bc.fit(X_tr_rand,  y_tr_rand)\n",
    "accuracy_train_set = bc.score(X_tr_rand, y_tr_rand)  \n",
    "accuracy_valid_set = bc.score(X_val_rand, y_val_rand) \n",
    "\n",
    "print(\"Bagging Classifier, Accuracy (Train Set) : \", accuracy_train_set)\n",
    "print(\"Bagging Classifier, Accuracy (val Set) : \", accuracy_valid_set)"
   ]
  },
  {
   "cell_type": "markdown",
   "metadata": {},
   "source": [
    "# Hyperparameter Search"
   ]
  },
  {
   "cell_type": "code",
   "execution_count": 124,
   "metadata": {
    "scrolled": true
   },
   "outputs": [
    {
     "name": "stdout",
     "output_type": "stream",
     "text": [
      "Fitting 5 folds for each of 10 candidates, totalling 50 fits\n"
     ]
    },
    {
     "name": "stderr",
     "output_type": "stream",
     "text": [
      "C:\\Users\\nadaa\\anaconda3\\anaconda\\lib\\site-packages\\sklearn\\linear_model\\_logistic.py:814: ConvergenceWarning: lbfgs failed to converge (status=1):\n",
      "STOP: TOTAL NO. of ITERATIONS REACHED LIMIT.\n",
      "\n",
      "Increase the number of iterations (max_iter) or scale the data as shown in:\n",
      "    https://scikit-learn.org/stable/modules/preprocessing.html\n",
      "Please also refer to the documentation for alternative solver options:\n",
      "    https://scikit-learn.org/stable/modules/linear_model.html#logistic-regression\n",
      "  n_iter_i = _check_optimize_result(\n"
     ]
    },
    {
     "data": {
      "text/plain": [
       "GridSearchCV(cv=5, estimator=LogisticRegression(), n_jobs=3,\n",
       "             param_grid={'C': array([ 1.,  2.,  3.,  4.,  5.,  6.,  7.,  8.,  9., 10.])},\n",
       "             verbose=5)"
      ]
     },
     "execution_count": 124,
     "metadata": {},
     "output_type": "execute_result"
    }
   ],
   "source": [
    "from sklearn.model_selection import GridSearchCV\n",
    "parameters = {\n",
    "    'C': np.linspace(1, 10, 10)\n",
    "     \n",
    "             }\n",
    "lr = LogisticRegression()\n",
    "clf = GridSearchCV(lr, parameters, cv=5, verbose=5, n_jobs=3)\n",
    "clf.fit(X_tr_rand, y_tr_rand)\n",
    "             \n"
   ]
  },
  {
   "cell_type": "code",
   "execution_count": 125,
   "metadata": {},
   "outputs": [
    {
     "data": {
      "text/plain": [
       "{'C': 9.0}"
      ]
     },
     "execution_count": 125,
     "metadata": {},
     "output_type": "execute_result"
    }
   ],
   "source": [
    "clf.best_params_"
   ]
  },
  {
   "cell_type": "markdown",
   "metadata": {},
   "source": [
    "### Classification Metrics Functions\n"
   ]
  },
  {
   "cell_type": "code",
   "execution_count": 44,
   "metadata": {},
   "outputs": [],
   "source": [
    "def accuracy(actuals, preds):\n",
    "    return np.mean(actuals == preds)\n",
    "\n",
    "def precision(actuals, preds):\n",
    "    tp = np.sum((actuals == 1) & (preds == 1))\n",
    "    fp = np.sum((actuals == 0) & (preds == 1))\n",
    "    return tp / (tp + fp)\n",
    "\n",
    "def recall(actuals, preds):\n",
    "    tp = np.sum((actuals == 1) & (preds == 1))\n",
    "    fn = np.sum((actuals == 1) & (preds == 0))\n",
    "    return tp / (tp + fn)\n",
    "\n",
    "def F1(actuals, preds):\n",
    "    p, r = precision(actuals, preds), recall(actuals, preds)\n",
    "    return 2*p*r / (p + r)"
   ]
  },
  {
   "cell_type": "markdown",
   "metadata": {},
   "source": [
    "# Feature Engineering"
   ]
  },
  {
   "cell_type": "markdown",
   "metadata": {},
   "source": [
    " #### Add new columns"
   ]
  },
  {
   "cell_type": "code",
   "execution_count": 126,
   "metadata": {},
   "outputs": [],
   "source": [
    "data['new_columns']=data['y']*data['poutcome_success']"
   ]
  },
  {
   "cell_type": "markdown",
   "metadata": {},
   "source": [
    "__Polynomial__:"
   ]
  },
  {
   "cell_type": "code",
   "execution_count": 46,
   "metadata": {},
   "outputs": [
    {
     "name": "stdout",
     "output_type": "stream",
     "text": [
      "Polynomial Regression Train Rˆ2: 0.8086441986107538\n",
      "Polynomial Regression Validate Rˆ2: 0.8249035245690765\n"
     ]
    },
    {
     "name": "stderr",
     "output_type": "stream",
     "text": [
      "C:\\Users\\nadaa\\anaconda3\\anaconda\\lib\\site-packages\\sklearn\\linear_model\\_logistic.py:814: ConvergenceWarning: lbfgs failed to converge (status=1):\n",
      "STOP: TOTAL NO. of ITERATIONS REACHED LIMIT.\n",
      "\n",
      "Increase the number of iterations (max_iter) or scale the data as shown in:\n",
      "    https://scikit-learn.org/stable/modules/preprocessing.html\n",
      "Please also refer to the documentation for alternative solver options:\n",
      "    https://scikit-learn.org/stable/modules/linear_model.html#logistic-regression\n",
      "  n_iter_i = _check_optimize_result(\n"
     ]
    }
   ],
   "source": [
    "poly_features_1 = PolynomialFeatures(degree=1)\n",
    "\n",
    "X_train_poly1 = poly_features_1.fit_transform(X_tr_rand)\n",
    "X_val_poly1 = poly_features_1.fit_transform(X_val_rand)\n",
    "\n",
    "logisticRegr = LogisticRegression()\n",
    "logisticRegr.fit(X_train_poly1, y_tr_rand)\n",
    "print(\"Polynomial Regression Train Rˆ2:\", logisticRegr.score(X_train_poly1,y_tr_rand))\n",
    "print(\"Polynomial Regression Validate Rˆ2:\", logisticRegr.score(X_val_poly1, y_val_rand))\n"
   ]
  },
  {
   "cell_type": "markdown",
   "metadata": {},
   "source": [
    "# importances extraction"
   ]
  },
  {
   "cell_type": "code",
   "execution_count": 47,
   "metadata": {},
   "outputs": [
    {
     "name": "stdout",
     "output_type": "stream",
     "text": [
      "Logistic Regression Model, Accuracy (Train Set) :  0.8246462567532802\n",
      "Logistic Regression Model, Accuracy (Val Set) :  0.8370208386930795\n"
     ]
    }
   ],
   "source": [
    "lm_model = LogisticRegression(C=9,max_iter=3000,solver=\"lbfgs\")\n",
    "lm_model.fit(X_tr_rand, y_tr_rand)\n",
    "\n",
    "accuracy_train_set = lm_model.score(X_tr_rand, y_tr_rand)  \n",
    "accuracy_valid_set = lm_model.score(X_val_rand, y_val_rand)  \n",
    "print(\"Logistic Regression Model, Accuracy (Train Set) : \", accuracy_train_set)\n",
    "print(\"Logistic Regression Model, Accuracy (Val Set) : \", accuracy_valid_set)"
   ]
  },
  {
   "cell_type": "code",
   "execution_count": 48,
   "metadata": {
    "scrolled": true
   },
   "outputs": [
    {
     "name": "stdout",
     "output_type": "stream",
     "text": [
      "              Attribute  Importance\n",
      "43     poutcome_success    1.986386\n",
      "32            month_mar    1.444486\n",
      "35            month_oct    1.173498\n",
      "36            month_sep    0.873162\n",
      "18          job_student    0.573143\n",
      "15          job_retired    0.529883\n",
      "27            month_dec    0.308547\n",
      "25            month_apr    0.308262\n",
      "39   education_tertiary    0.195090\n",
      "10           job_admin.    0.192705\n",
      "24       marital_single    0.123436\n",
      "9              previous    0.007684\n",
      "6              duration    0.005156\n",
      "0                   age    0.001046\n",
      "2               balance    0.000017\n",
      "8                 pdays    0.000000\n",
      "5                   day   -0.001425\n",
      "28            month_feb   -0.042754\n",
      "20       job_unemployed   -0.048656\n",
      "38  education_secondary   -0.052162\n",
      "21          job_unknown   -0.072229\n",
      "19       job_technician   -0.097955\n",
      "7              campaign   -0.099640\n",
      "14       job_management   -0.131791\n",
      "1               default   -0.146966\n",
      "40    education_unknown   -0.190158\n",
      "22     marital_divorced   -0.200594\n",
      "17         job_services   -0.214503\n",
      "11      job_blue-collar   -0.214723\n",
      "23      marital_married   -0.255826\n",
      "16    job_self-employed   -0.280696\n",
      "13        job_housemaid   -0.281275\n",
      "37    education_primary   -0.285754\n",
      "12     job_entrepreneur   -0.286886\n",
      "42       poutcome_other   -0.458272\n",
      "31            month_jun   -0.518106\n",
      "4                  loan   -0.581993\n",
      "26            month_aug   -0.618398\n",
      "34            month_nov   -0.707817\n",
      "41     poutcome_failure   -0.769754\n",
      "30            month_jul   -0.773113\n",
      "29            month_jan   -0.844834\n",
      "3               housing   -0.860961\n",
      "33            month_may   -0.935919\n",
      "44     poutcome_unknown   -1.091345\n"
     ]
    }
   ],
   "source": [
    "# importances extraction\n",
    "importances = pd.DataFrame(data={\n",
    "    'Attribute': X_tr_rand.columns,\n",
    "    'Importance': lm_model.coef_[0]\n",
    "})\n",
    "importances = importances.sort_values(by='Importance', ascending=False)\n",
    "print(importances)"
   ]
  },
  {
   "cell_type": "code",
   "execution_count": 73,
   "metadata": {},
   "outputs": [
    {
     "data": {
      "image/png": "[encoded data removed]",
      "text/plain": [
       "<Figure size 648x360 with 1 Axes>"
      ]
     },
     "metadata": {
      "needs_background": "light"
     },
     "output_type": "display_data"
    }
   ],
   "source": [
    "plt.figure(figsize = (9,5))\n",
    "plt.bar(x=importances['Attribute'], height=importances['Importance'], color='#087E8B')\n",
    "plt.title('Feature importances obtained from coefficients', size=20)\n",
    "plt.xticks(rotation='vertical')\n",
    "plt.show()"
   ]
  },
  {
   "cell_type": "code",
   "execution_count": 50,
   "metadata": {},
   "outputs": [
    {
     "name": "stdout",
     "output_type": "stream",
     "text": [
      "Logistic Regression Model, Accuracy (Train Set) :  0.8088500128633908\n",
      "Logistic Regression Model, Accuracy (Val Set) :  0.8203241574479032\n"
     ]
    }
   ],
   "source": [
    "X_tr_rand= X_tr_rand[['poutcome_success', 'job_retired', 'month_oct','month_mar', 'education_tertiary', 'month_sep', 'month_apr',\n",
    "         'job_student', 'job_management', 'month_dec', 'month_aug','month_feb', 'marital_divorced', \n",
    "         'education_unknown', 'job_unemployed','duration','job_unknown', 'balance']]\n",
    "X_val_rand = X_val_rand[['poutcome_success', 'job_retired', 'month_oct','month_mar', 'education_tertiary', 'month_sep', 'month_apr',\n",
    "         'job_student', 'job_management', 'month_dec', 'month_aug','month_feb', 'marital_divorced', \n",
    "         'education_unknown', 'job_unemployed','duration','job_unknown', 'balance']]\n",
    "\n",
    "        \n",
    "lm_model = LogisticRegression()\n",
    "lm_model.fit(X_tr_rand, y_tr_rand)\n",
    "y_pred  = lm_model.predict(X_tr_rand)\n",
    "\n",
    "accuracy_train_set = lm_model.score(X_tr_rand, y_tr_rand)  \n",
    "accuracy_valid_set = lm_model.score(X_val_rand, y_val_rand)  \n",
    "\n",
    "\n",
    "print(\"Logistic Regression Model, Accuracy (Train Set) : \", accuracy_train_set)\n",
    "print(\"Logistic Regression Model, Accuracy (Val Set) : \", accuracy_valid_set)"
   ]
  },
  {
   "cell_type": "markdown",
   "metadata": {},
   "source": [
    "## Naive Bayes:"
   ]
  },
  {
   "cell_type": "code",
   "execution_count": 127,
   "metadata": {},
   "outputs": [
    {
     "name": "stdout",
     "output_type": "stream",
     "text": [
      "GaussianNB Model, Accuracy (Train Set) : 0.778698224852071\n",
      "GaussianNB Model, Accuracy (Train Set)  0.7837921276048366\n"
     ]
    }
   ],
   "source": [
    "from sklearn.naive_bayes import BernoulliNB, MultinomialNB, GaussianNB\n",
    "nb = GaussianNB()\n",
    "nb.fit(X_tr_rand, y_tr_rand)\n",
    "\n",
    "print('GaussianNB Model, Accuracy (Train Set) :',nb.score(X_tr_rand, y_tr_rand))\n",
    "\n",
    "print('GaussianNB Model, Accuracy (Train Set) ',nb.score(X_val_rand, y_val_rand))"
   ]
  },
  {
   "cell_type": "code",
   "execution_count": 128,
   "metadata": {},
   "outputs": [
    {
     "name": "stdout",
     "output_type": "stream",
     "text": [
      "GaussianNB training metrics: \n",
      " Accuracy: 0.7787 \n",
      " Precision: 0.7311 \n",
      " Recall: 0.5547 \n",
      " F1: 0.6308\n",
      "--------------------------------------\n",
      "GaussianNB val metrics: \n",
      " Accuracy: 0.7838 \n",
      " Precision: 0.7413 \n",
      " Recall: 0.5616 \n",
      " F1: 0.6391\n"
     ]
    }
   ],
   "source": [
    "print('GaussianNB training metrics: \\n Accuracy: %.4f \\n Precision: %.4f \\n Recall: %.4f \\n F1: %.4f' %\n",
    "        (accuracy_score(y_tr_rand, nb.predict(X_tr_rand)),\n",
    "         precision_score(y_tr_rand, nb.predict(X_tr_rand)),\n",
    "         recall_score(y_tr_rand, nb.predict(X_tr_rand)),\n",
    "         f1_score(y_tr_rand, nb.predict(X_tr_rand))\n",
    "        )\n",
    "     )\n",
    "\n",
    "print('--------------------------------------')\n",
    "print('GaussianNB val metrics: \\n Accuracy: %.4f \\n Precision: %.4f \\n Recall: %.4f \\n F1: %.4f' %\n",
    "        (accuracy_score(y_val_rand, nb.predict(X_val_rand)),\n",
    "         precision_score(y_val_rand, nb.predict(X_val_rand)),\n",
    "         recall_score(y_val_rand, nb.predict(X_val_rand)),\n",
    "         f1_score(y_val_rand, nb.predict(X_val_rand))\n",
    "        )\n",
    "     )"
   ]
  },
  {
   "cell_type": "markdown",
   "metadata": {},
   "source": [
    "# Summary of models"
   ]
  },
  {
   "cell_type": "code",
   "execution_count": 129,
   "metadata": {},
   "outputs": [],
   "source": [
    "lm_model = LogisticRegression(solver=\"lbfgs\", random_state=1)\n",
    "knn = KNeighborsClassifier()\n",
    "dt=DecisionTreeClassifier()\n",
    "xgb= XGBClassifier()\n",
    "rf = RandomForestClassifier(n_estimators=100, random_state=1)\n",
    "bc= BaggingClassifier(n_estimators=30, random_state=0)\n",
    "models = [\"lm_model\", \"knn\", \"dt\", \"xgb\",'rf','bc']"
   ]
  },
  {
   "cell_type": "code",
   "execution_count": 130,
   "metadata": {},
   "outputs": [
    {
     "data": {
      "text/plain": [
       "(38870, 45)"
      ]
     },
     "execution_count": 130,
     "metadata": {},
     "output_type": "execute_result"
    }
   ],
   "source": [
    "X_tr_rand.shape"
   ]
  },
  {
   "cell_type": "code",
   "execution_count": 131,
   "metadata": {},
   "outputs": [
    {
     "data": {
      "text/plain": [
       "(38870,)"
      ]
     },
     "execution_count": 131,
     "metadata": {},
     "output_type": "execute_result"
    }
   ],
   "source": [
    "y_tr_rand.shape"
   ]
  },
  {
   "cell_type": "code",
   "execution_count": 132,
   "metadata": {
    "scrolled": true
   },
   "outputs": [
    {
     "name": "stderr",
     "output_type": "stream",
     "text": [
      "C:\\Users\\nadaa\\anaconda3\\anaconda\\lib\\site-packages\\sklearn\\linear_model\\_logistic.py:814: ConvergenceWarning: lbfgs failed to converge (status=1):\n",
      "STOP: TOTAL NO. of ITERATIONS REACHED LIMIT.\n",
      "\n",
      "Increase the number of iterations (max_iter) or scale the data as shown in:\n",
      "    https://scikit-learn.org/stable/modules/preprocessing.html\n",
      "Please also refer to the documentation for alternative solver options:\n",
      "    https://scikit-learn.org/stable/modules/linear_model.html#logistic-regression\n",
      "  n_iter_i = _check_optimize_result(\n",
      "C:\\Users\\nadaa\\anaconda3\\anaconda\\lib\\site-packages\\xgboost\\sklearn.py:1224: UserWarning: The use of label encoder in XGBClassifier is deprecated and will be removed in a future release. To remove this warning, do the following: 1) Pass option use_label_encoder=False when constructing XGBClassifier object; and 2) Encode your labels (y) as integers starting with 0, i.e. 0, 1, 2, ..., [num_class - 1].\n",
      "  warnings.warn(label_encoder_deprecation_msg, UserWarning)\n"
     ]
    },
    {
     "name": "stdout",
     "output_type": "stream",
     "text": [
      "[14:44:43] WARNING: C:/Users/Administrator/workspace/xgboost-win64_release_1.5.0/src/learner.cc:1115: Starting in XGBoost 1.3.0, the default evaluation metric used with the objective 'binary:logistic' was changed from 'error' to 'logloss'. Explicitly set eval_metric if you'd like to restore the old behavior.\n"
     ]
    }
   ],
   "source": [
    "for model_name in models:\n",
    "    \n",
    "    curr_model = eval(model_name)\n",
    "    \n",
    "    curr_model.fit(X_tr_rand, y_tr_rand)\n",
    "    \n",
    "    with open(f\"{model_name}.pickle\", \"wb\") as pfile:\n",
    "        pickle.dump(curr_model, pfile)"
   ]
  },
  {
   "cell_type": "code",
   "execution_count": 133,
   "metadata": {},
   "outputs": [],
   "source": [
    "model_names =[\"lm_model\", \"knn\", \"dt\", \"xgb\",'rf','bc']\n",
    "for model_name in model_names:\n",
    "    with open(f\"{model_name}.pickle\", \"rb\") as pfile:\n",
    "        exec(f\"{model_name} = pickle.load(pfile)\")\n",
    "\n",
    "model_vars = [eval(n) for n in model_names]\n",
    "model_list = list(zip(model_names, model_vars))"
   ]
  },
  {
   "cell_type": "code",
   "execution_count": 134,
   "metadata": {
    "scrolled": true
   },
   "outputs": [
    {
     "data": {
      "text/plain": [
       "[('lm_model', LogisticRegression(random_state=1)),\n",
       " ('knn', KNeighborsClassifier()),\n",
       " ('dt', DecisionTreeClassifier()),\n",
       " ('xgb',\n",
       "  XGBClassifier(base_score=0.5, booster='gbtree', colsample_bylevel=1,\n",
       "                colsample_bynode=1, colsample_bytree=1, enable_categorical=False,\n",
       "                gamma=0, gpu_id=-1, importance_type=None,\n",
       "                interaction_constraints='', learning_rate=0.300000012,\n",
       "                max_delta_step=0, max_depth=6, min_child_weight=1, missing=nan,\n",
       "                monotone_constraints='()', n_estimators=100, n_jobs=8,\n",
       "                num_parallel_tree=1, predictor='auto', random_state=0,\n",
       "                reg_alpha=0, reg_lambda=1, scale_pos_weight=1, subsample=1,\n",
       "                tree_method='exact', validate_parameters=1, verbosity=None)),\n",
       " ('rf', RandomForestClassifier(random_state=1)),\n",
       " ('bc', BaggingClassifier(n_estimators=30, random_state=0))]"
      ]
     },
     "execution_count": 134,
     "metadata": {},
     "output_type": "execute_result"
    }
   ],
   "source": [
    "model_list"
   ]
  },
  {
   "cell_type": "code",
   "execution_count": 136,
   "metadata": {
    "scrolled": true
   },
   "outputs": [
    {
     "name": "stdout",
     "output_type": "stream",
     "text": [
      "lm_model train_score: 0.8017751479289941\n",
      "lm_model val_score: 0.8128891175713918\n",
      "lm_model test_score: 0.8656419329868407\n",
      "knn train_score: 0.9030872137895549\n",
      "knn val_score: 0.7178286596346797\n",
      "knn test_score: 0.7762910538538096\n",
      "dt train_score: 1.0\n",
      "dt val_score: 0.7642140468227425\n",
      "dt test_score: 0.8682959194957426\n",
      "xgb train_score: 0.9409055827116027\n",
      "xgb val_score: 0.8490095189091844\n",
      "xgb test_score: 0.8853256662611965\n",
      "rf train_score: 1.0\n",
      "rf val_score: 0.7987393877025984\n",
      "rf test_score: 0.8982638504920933\n",
      "bc train_score: 0.9998970928736814\n",
      "bc val_score: 0.8012863390789812\n",
      "bc test_score: 0.8943934534999447\n"
     ]
    }
   ],
   "source": [
    "for model_name in model_names:\n",
    "    curr_model = eval(model_name)\n",
    "    print(f'{model_name} train_score: {curr_model.score(X_tr_rand, y_tr_rand)}')\n",
    "    print(f'{model_name} val_score: {curr_model.score(X_val_rand, y_val_rand)}')\n",
    "    print(f'{model_name} test_score: {curr_model.score(X_test, y_test)}')"
   ]
  },
  {
   "cell_type": "markdown",
   "metadata": {},
   "source": [
    "### Max Voting"
   ]
  },
  {
   "cell_type": "code",
   "execution_count": 137,
   "metadata": {},
   "outputs": [
    {
     "data": {
      "text/plain": [
       "VotingClassifier(estimators=[('lm_model', LogisticRegression(random_state=1)),\n",
       "                             ('knn', KNeighborsClassifier()),\n",
       "                             ('dt', DecisionTreeClassifier()),\n",
       "                             ('xgb',\n",
       "                              XGBClassifier(base_score=0.5, booster='gbtree',\n",
       "                                            colsample_bylevel=1,\n",
       "                                            colsample_bynode=1,\n",
       "                                            colsample_bytree=1,\n",
       "                                            enable_categorical=False, gamma=0,\n",
       "                                            gpu_id=-1, importance_type=None,\n",
       "                                            interaction_constraints='',\n",
       "                                            learning...\n",
       "                                            min_child_weight=1, missing=nan,\n",
       "                                            monotone_constraints='()',\n",
       "                                            n_estimators=100, n_jobs=8,\n",
       "                                            num_parallel_tree=1,\n",
       "                                            predictor='auto', random_state=0,\n",
       "                                            reg_alpha=0, reg_lambda=1,\n",
       "                                            scale_pos_weight=1, subsample=1,\n",
       "                                            tree_method='exact',\n",
       "                                            validate_parameters=1,\n",
       "                                            verbosity=None)),\n",
       "                             ('rf', RandomForestClassifier(random_state=1)),\n",
       "                             ('bc',\n",
       "                              BaggingClassifier(n_estimators=30,\n",
       "                                                random_state=0))],\n",
       "                 n_jobs=-1)"
      ]
     },
     "execution_count": 137,
     "metadata": {},
     "output_type": "execute_result"
    }
   ],
   "source": [
    "voting_classifer = VotingClassifier(estimators=model_list,\n",
    "                                    voting='hard', \n",
    "                                    n_jobs=-1)\n",
    "voting_classifer.fit(X_tr_rand, y_tr_rand)"
   ]
  },
  {
   "cell_type": "code",
   "execution_count": 126,
   "metadata": {},
   "outputs": [
    {
     "data": {
      "text/plain": [
       "0.9973244147157191"
      ]
     },
     "execution_count": 126,
     "metadata": {},
     "output_type": "execute_result"
    }
   ],
   "source": [
    "y_pred = voting_classifer.predict(X_tr_rand)\n",
    "accuracy_score(y_tr_rand, y_pred)"
   ]
  },
  {
   "cell_type": "code",
   "execution_count": 138,
   "metadata": {},
   "outputs": [
    {
     "data": {
      "text/plain": [
       "0.8968262744664381"
      ]
     },
     "execution_count": 138,
     "metadata": {},
     "output_type": "execute_result"
    }
   ],
   "source": [
    "accuracy_score(y_test, voting_classifer.predict(X_test))\n"
   ]
  },
  {
   "cell_type": "code",
   "execution_count": 139,
   "metadata": {},
   "outputs": [
    {
     "name": "stdout",
     "output_type": "stream",
     "text": [
      "[[7562  390]\n",
      " [ 543  548]]\n"
     ]
    }
   ],
   "source": [
    "y_pred=voting_classifer.predict(X_test)\n",
    "print(metrics.confusion_matrix(y_test, y_pred));"
   ]
  },
  {
   "cell_type": "code",
   "execution_count": 140,
   "metadata": {},
   "outputs": [
    {
     "name": "stderr",
     "output_type": "stream",
     "text": [
      "C:\\Users\\nadaa\\anaconda3\\anaconda\\lib\\site-packages\\sklearn\\utils\\deprecation.py:87: FutureWarning: Function plot_confusion_matrix is deprecated; Function `plot_confusion_matrix` is deprecated in 1.0 and will be removed in 1.2. Use one of the class methods: ConfusionMatrixDisplay.from_predictions or ConfusionMatrixDisplay.from_estimator.\n",
      "  warnings.warn(msg, category=FutureWarning)\n"
     ]
    },
    {
     "data": {
      "text/plain": [
       "<sklearn.metrics._plot.confusion_matrix.ConfusionMatrixDisplay at 0x1fcc649b670>"
      ]
     },
     "execution_count": 140,
     "metadata": {},
     "output_type": "execute_result"
    },
    {
     "data": {
      "text/plain": [
       "<Figure size 360x360 with 0 Axes>"
      ]
     },
     "metadata": {},
     "output_type": "display_data"
    },
    {
     "data": {
      "image/png": "[encoded data removed]",
      "text/plain": [
       "<Figure size 432x288 with 2 Axes>"
      ]
     },
     "metadata": {
      "needs_background": "light"
     },
     "output_type": "display_data"
    }
   ],
   "source": [
    "from sklearn.metrics import plot_confusion_matrix\n",
    "plt.figure(figsize = (5,5))\n",
    "\n",
    "plot_confusion_matrix(voting_classifer, X_test, y_test,  cmap=plt.cm.Blues)\n"
   ]
  },
  {
   "cell_type": "code",
   "execution_count": 141,
   "metadata": {},
   "outputs": [],
   "source": [
    "models1 = []\n",
    "accuracies1 = []\n",
    "precisions1 = []\n",
    "recalls1 = []\n",
    "roc_scores1 = []\n",
    "f1_scores1 = []"
   ]
  },
  {
   "cell_type": "code",
   "execution_count": 142,
   "metadata": {},
   "outputs": [],
   "source": [
    "models_list=[lm_model,knn,rf,dt,xgb,bc]"
   ]
  },
  {
   "cell_type": "code",
   "execution_count": 143,
   "metadata": {
    "scrolled": true
   },
   "outputs": [
    {
     "name": "stdout",
     "output_type": "stream",
     "text": [
      "Accuracy(LogisticRegression):  0.8656\n",
      "F1 score(LogisticRegression):  0.5226\n",
      "Precision(LogisticRegression):  0.4574\n",
      "Recall(LogisticRegression):  0.6095\n",
      "ROC Score(LogisticRegression):  0.7552\n",
      "Accuracy(KNeighborsClassifier):  0.7763\n",
      "F1 score(KNeighborsClassifier):  0.3531\n",
      "Precision(KNeighborsClassifier):  0.2711\n",
      "Recall(KNeighborsClassifier):  0.506\n",
      "ROC Score(KNeighborsClassifier):  0.6597\n",
      "Accuracy(RandomForestClassifier):  0.8983\n",
      "F1 score(RandomForestClassifier):  0.5267\n",
      "Precision(RandomForestClassifier):  0.6002\n",
      "Recall(RandomForestClassifier):  0.4693\n",
      "ROC Score(RandomForestClassifier):  0.7132\n",
      "Accuracy(DecisionTreeClassifier):  0.8683\n",
      "F1 score(DecisionTreeClassifier):  0.4478\n",
      "Precision(DecisionTreeClassifier):  0.4531\n",
      "Recall(DecisionTreeClassifier):  0.4427\n",
      "ROC Score(DecisionTreeClassifier):  0.6847\n",
      "Accuracy(XGBClassifier):  0.8853\n",
      "F1 score(XGBClassifier):  0.5909\n",
      "Precision(XGBClassifier):  0.5187\n",
      "Recall(XGBClassifier):  0.6865\n",
      "ROC Score(XGBClassifier):  0.7996\n",
      "Accuracy(BaggingClassifier):  0.8944\n",
      "F1 score(BaggingClassifier):  0.5497\n",
      "Precision(BaggingClassifier):  0.566\n",
      "Recall(BaggingClassifier):  0.5344\n",
      "ROC Score(BaggingClassifier):  0.7391\n"
     ]
    }
   ],
   "source": [
    "model_names =[\"lm_model\", \"knn\", \"dt\", \"xgb\",'rf','bc']\n",
    "\n",
    "for model in models_list:\n",
    "     \n",
    "    accuracy = model.score(X_test, y_test)  #get accuracy\n",
    "    y_pred1 = model.predict(X_test) #get predictions\n",
    "    model_name = type(model).__name__\n",
    "    print(\"Accuracy(\"+ model_name + \"): \", accuracy.round(4)) #display accuracy\n",
    "    print(\"F1 score(\"+ model_name + \"): \", f1_score(y_test,y_pred1).round(4)) #display F1\n",
    "    print(\"Precision(\"+ model_name + \"): \", precision_score(y_test,y_pred1).round(4)) #display precision\n",
    "    print(\"Recall(\"+ model_name + \"): \",recall_score(y_test,y_pred1).round(4)) #display recall\n",
    "    print(\"ROC Score(\"+ model_name + \"): \",roc_auc_score(y_test,y_pred1).round(4)) #display recall\n",
    "        \n",
    "\n",
    "    models1.append(model_name)\n",
    "    accuracies1.append(accuracy.round(4))\n",
    "    f1_scores1.append(f1_score(y_test,y_pred1).round(4))\n",
    "    precisions1.append(precision_score(y_test,y_pred1).round(4))\n",
    "    recalls1.append(recall_score(y_test,y_pred1).round(4))\n",
    "    roc_scores1.append(roc_auc_score(y_test,y_pred1).round(4))"
   ]
  },
  {
   "cell_type": "code",
   "execution_count": 145,
   "metadata": {
    "scrolled": true
   },
   "outputs": [
    {
     "data": {
      "text/html": [
       "<div><div id=f4f954a4-59b8-4d3a-ab79-defc433debfa style=\"display:none; background-color:#9D6CFF; color:white; width:200px; height:30px; padding-left:5px; border-radius:4px; flex-direction:row; justify-content:space-around; align-items:center;\" onmouseover=\"this.style.backgroundColor='#BA9BF8'\" onmouseout=\"this.style.backgroundColor='#9D6CFF'\" onclick=\"window.commands?.execute('create-mitosheet-from-dataframe-output');\">See Full Dataframe in Mito</div> <script> if (window.commands.hasCommand('create-mitosheet-from-dataframe-output')) document.getElementById('f4f954a4-59b8-4d3a-ab79-defc433debfa').style.display = 'flex' </script> <table border=\"1\" class=\"dataframe\">\n",
       "  <thead>\n",
       "    <tr style=\"text-align: right;\">\n",
       "      <th></th>\n",
       "      <th>Model</th>\n",
       "      <th>Accuracy</th>\n",
       "      <th>F1</th>\n",
       "      <th>Precision</th>\n",
       "      <th>Recall</th>\n",
       "      <th>ROC Score</th>\n",
       "    </tr>\n",
       "  </thead>\n",
       "  <tbody>\n",
       "    <tr>\n",
       "      <th>0</th>\n",
       "      <td>LogisticRegression</td>\n",
       "      <td>0.8656</td>\n",
       "      <td>0.5226</td>\n",
       "      <td>0.4574</td>\n",
       "      <td>0.6095</td>\n",
       "      <td>0.7552</td>\n",
       "    </tr>\n",
       "    <tr>\n",
       "      <th>1</th>\n",
       "      <td>KNeighborsClassifier</td>\n",
       "      <td>0.7763</td>\n",
       "      <td>0.3531</td>\n",
       "      <td>0.2711</td>\n",
       "      <td>0.5060</td>\n",
       "      <td>0.6597</td>\n",
       "    </tr>\n",
       "    <tr>\n",
       "      <th>2</th>\n",
       "      <td>RandomForestClassifier</td>\n",
       "      <td>0.8983</td>\n",
       "      <td>0.5267</td>\n",
       "      <td>0.6002</td>\n",
       "      <td>0.4693</td>\n",
       "      <td>0.7132</td>\n",
       "    </tr>\n",
       "    <tr>\n",
       "      <th>3</th>\n",
       "      <td>DecisionTreeClassifier</td>\n",
       "      <td>0.8683</td>\n",
       "      <td>0.4478</td>\n",
       "      <td>0.4531</td>\n",
       "      <td>0.4427</td>\n",
       "      <td>0.6847</td>\n",
       "    </tr>\n",
       "    <tr>\n",
       "      <th>4</th>\n",
       "      <td>XGBClassifier</td>\n",
       "      <td>0.8853</td>\n",
       "      <td>0.5909</td>\n",
       "      <td>0.5187</td>\n",
       "      <td>0.6865</td>\n",
       "      <td>0.7996</td>\n",
       "    </tr>\n",
       "    <tr>\n",
       "      <th>5</th>\n",
       "      <td>BaggingClassifier</td>\n",
       "      <td>0.8944</td>\n",
       "      <td>0.5497</td>\n",
       "      <td>0.5660</td>\n",
       "      <td>0.5344</td>\n",
       "      <td>0.7391</td>\n",
       "    </tr>\n",
       "  </tbody>\n",
       "</table></div>"
      ],
      "text/plain": [
       "                    Model  Accuracy      F1  Precision  Recall  ROC Score\n",
       "0      LogisticRegression    0.8656  0.5226     0.4574  0.6095     0.7552\n",
       "1    KNeighborsClassifier    0.7763  0.3531     0.2711  0.5060     0.6597\n",
       "2  RandomForestClassifier    0.8983  0.5267     0.6002  0.4693     0.7132\n",
       "3  DecisionTreeClassifier    0.8683  0.4478     0.4531  0.4427     0.6847\n",
       "4           XGBClassifier    0.8853  0.5909     0.5187  0.6865     0.7996\n",
       "5       BaggingClassifier    0.8944  0.5497     0.5660  0.5344     0.7391"
      ]
     },
     "execution_count": 145,
     "metadata": {},
     "output_type": "execute_result"
    }
   ],
   "source": [
    "result=pd.DataFrame({\"Model\" : models1, \"Accuracy\" : accuracies1,\"F1\" : f1_scores1, \"Precision\" : precisions1, \"Recall\" : recalls1, 'ROC Score' :roc_scores1})\n",
    "result"
   ]
  }
 ],
 "metadata": {
  "kernelspec": {
   "display_name": "Python 3",
   "language": "python",
   "name": "python3"
  },
  "language_info": {
   "codemirror_mode": {
    "name": "ipython",
    "version": 3
   },
   "file_extension": ".py",
   "mimetype": "text/x-python",
   "name": "python",
   "nbconvert_exporter": "python",
   "pygments_lexer": "ipython3",
   "version": "3.8.5"
  }
 },
 "nbformat": 4,
 "nbformat_minor": 4
}
